{
  "nbformat": 4,
  "nbformat_minor": 0,
  "metadata": {
    "colab": {
      "provenance": [],
      "authorship_tag": "ABX9TyMRn4FraJ43Zezbr+0xqjYR",
      "include_colab_link": true
    },
    "kernelspec": {
      "name": "python3",
      "display_name": "Python 3"
    },
    "language_info": {
      "name": "python"
    }
  },
  "cells": [
    {
      "cell_type": "markdown",
      "metadata": {
        "id": "view-in-github",
        "colab_type": "text"
      },
      "source": [
        "<a href=\"https://colab.research.google.com/github/Md-Ibu17/My_Python_Projects/blob/main/python_program_part_1.ipynb\" target=\"_parent\"><img src=\"https://colab.research.google.com/assets/colab-badge.svg\" alt=\"Open In Colab\"/></a>"
      ]
    },
    {
      "cell_type": "code",
      "execution_count": null,
      "metadata": {
        "id": "nMyG7t0RKOwB",
        "colab": {
          "base_uri": "https://localhost:8080/"
        },
        "outputId": "cb434397-9dc7-424f-ec47-d64af6b3d273"
      },
      "outputs": [
        {
          "output_type": "stream",
          "name": "stdout",
          "text": [
            "Enter a sentance: credo systemz\n",
            "credo systemz\n"
          ]
        }
      ],
      "source": [
        "#program 1\n",
        "#print credo systemz\n",
        "x = str(input(\"Enter a sentance: \"))\n",
        "print(x)"
      ]
    },
    {
      "cell_type": "code",
      "source": [
        "#program 2\n",
        "#Add 2 numbers\n",
        "num1 = int(input(\"Enter 1st number: \"))\n",
        "num2 = int(input(\"Enter 2nd number: \"))\n",
        "num3 = num1 + num2\n",
        "print(\"Sum: \",num3)"
      ],
      "metadata": {
        "id": "qxZcpcTjKUfM",
        "colab": {
          "base_uri": "https://localhost:8080/"
        },
        "outputId": "de8a1c68-dd9c-452a-d21b-3dd06797690b"
      },
      "execution_count": null,
      "outputs": [
        {
          "output_type": "stream",
          "name": "stdout",
          "text": [
            "Enter 1st number: 4\n",
            "Enter 2nd number: 6\n",
            "Sum:  10\n"
          ]
        }
      ]
    },
    {
      "cell_type": "code",
      "source": [
        "#program 3\n",
        "#Find the sqrt \n",
        "import math\n",
        "num = int(input(\"Enter the number: \"))\n",
        "result = math.sqrt(num)\n",
        "print(result)"
      ],
      "metadata": {
        "colab": {
          "base_uri": "https://localhost:8080/"
        },
        "id": "ePsQhA4wTuRU",
        "outputId": "aa7da895-d979-43d5-f707-df827cba545b"
      },
      "execution_count": null,
      "outputs": [
        {
          "output_type": "stream",
          "name": "stdout",
          "text": [
            "Enter the number: 4\n",
            "2.0\n"
          ]
        }
      ]
    },
    {
      "cell_type": "code",
      "source": [
        "#program 4\n",
        "# Calculate the Area of shapes\n",
        "#AREA OF SHAPES\n",
        "import math\n",
        "\n",
        "def rectangle():\n",
        "    l = int(input(\"Enter the length: \"))\n",
        "    w = int(input(\"Enter the width: \"))\n",
        "    res = l * w\n",
        "    print(\"Area of Rectangle: \",res)\n",
        "\n",
        "def square():\n",
        "    s = int(input(\"Enter the sides: \"))\n",
        "    res = s**2\n",
        "    print(\"Area of Square: \",res)\n",
        "def triangle():\n",
        "    b = int(input(\"Enter the base: \"))\n",
        "    h = int(input(\"Enter the height: \"))\n",
        "    res = 0.5 * b * h\n",
        "    print(\"Area of  Triangle: \",res)\n",
        "\n",
        "def circle():\n",
        "    r = int(input(\"Enter the radius: \"))\n",
        "    res = math.pi*(r**2)\n",
        "    print(\"Area of Circle: \",res)\n",
        "\n",
        "def parallelogram():\n",
        "    b = int(input(\"Enter the base: \"))\n",
        "    h = int(input(\"Enter the height: \"))\n",
        "    res = b * h\n",
        "    print(\"Area of Parallelogram: \",res)\n",
        "\n",
        "def trapezoid():\n",
        "    b1 = int(input(\"Enter the base 1: \"))\n",
        "    b2 = int(input(\"Enter the base 2: \"))\n",
        "    h = int(input(\"Enter the height: \"))\n",
        "    res = 0.5 * (b1 + b2) * h\n",
        "    print(\"Area of Traperoid: \",res)\n",
        "\n",
        "print(\" 1) Area of Rectangle \\n 2) Area of Square \\n 3) Area of traingle \\n 4) Area of circle \\n 5) parallelogram \\n 6) Trapezoid\")\n",
        "choice = int(input(\"Enter a choice: \"))\n",
        "if choice == 1:\n",
        "    rectangle()\n",
        "elif choice == 2:\n",
        "    square()\n",
        "elif choice == 3:\n",
        "    triangle()\n",
        "elif choice == 4:\n",
        "    circle()\n",
        "elif choice == 5:\n",
        "    parallelogram()\n",
        "elif choice == 6:\n",
        "    trapezoid()\n",
        "else:\n",
        "    print(\"Enter the correct choice!!\")"
      ],
      "metadata": {
        "colab": {
          "base_uri": "https://localhost:8080/"
        },
        "id": "AHPcqABuUDPL",
        "outputId": "a89cf39d-9693-494f-d0d2-9a29c856a616"
      },
      "execution_count": null,
      "outputs": [
        {
          "output_type": "stream",
          "name": "stdout",
          "text": [
            " 1) Area of Rectangle \n",
            " 2) Area of Square \n",
            " 3) Area of traingle \n",
            " 4) Area of circle \n",
            " 5) parallelogram \n",
            " 6) Trapezoid\n",
            "Enter a choice: 6\n",
            "Enter the base 1: 14\n",
            "Enter the base 2: 20\n",
            "Enter the height: 4\n",
            "Area of Traperoid:  68.0\n"
          ]
        }
      ]
    },
    {
      "cell_type": "code",
      "source": [
        "#program 5\n",
        "#swap 2 number:\n",
        "num1 = int(input(\"Enter the 1st number: \"))\n",
        "num2 = int(input(\"Enter the 2nd number: \"))\n",
        "print(\"Before swap:\")\n",
        "print(num1,num2)\n",
        "# method - 1\n",
        "print(\"METHOD - 1\") \n",
        "num1 , num2 = num2 , num1\n",
        "print(\"After swap:\")\n",
        "print(num1,num2)\n",
        "# method - 2\n",
        "print(\"METHOD - 2\")\n",
        "print(\"After swap:\")\n",
        "temp = 0\n",
        "temp = num1\n",
        "num1 = num2\n",
        "num2 = temp\n",
        "print(num1,num2)\n",
        "# method - 3\n",
        "print(\"METHOD - 3\")\n",
        "print(\"After swap:\")\n",
        "num1 = num1 + num2\n",
        "num2 = num1 - num2\n",
        "num1 = num1 - num2\n",
        "print(num1,num2)"
      ],
      "metadata": {
        "colab": {
          "base_uri": "https://localhost:8080/"
        },
        "id": "dylv0NS5V__S",
        "outputId": "8e62102f-71b5-44b1-8032-359ef7199b26"
      },
      "execution_count": null,
      "outputs": [
        {
          "output_type": "stream",
          "name": "stdout",
          "text": [
            "Enter the 1st number: 3\n",
            "Enter the 2nd number: 5\n",
            "Before swap:\n",
            "3 5\n",
            "METHOD - 1\n",
            "After swap:\n",
            "5 3\n",
            "METHOD - 2\n",
            "After swap:\n",
            "3 5\n",
            "METHOD - 3\n",
            "After swap:\n",
            "5 3\n"
          ]
        }
      ]
    },
    {
      "cell_type": "code",
      "source": [
        "# program 6\n",
        "# celsius to fahrenheit and fahrenheit to celsius:\n",
        "print(\"Celsius to Fahrenheit:\")\n",
        "celsius = int(input(\"Enter the celsius: \"))\n",
        "fahrenheit = (celsius * 9/5) + 32\n",
        "print(fahrenheit)\n",
        "print(\"Fahrenheit to celsius:\")\n",
        "fahrenheit = int(input(\"Enter the fahrenheit: \"))\n",
        "celsius = (fahrenheit - 32) * 5/9\n",
        "print(celsius)"
      ],
      "metadata": {
        "colab": {
          "base_uri": "https://localhost:8080/"
        },
        "id": "KAlgBXO8WjAJ",
        "outputId": "24c5ff9e-aec6-4f7f-d886-a146ca5fea71"
      },
      "execution_count": null,
      "outputs": [
        {
          "output_type": "stream",
          "name": "stdout",
          "text": [
            "Celsius to Fahrenheit:\n",
            "Enter the celsius: 30\n",
            "86.0\n",
            "Fahrenheit to celsius:\n",
            "Enter the fahrenheit: 86\n",
            "30.0\n"
          ]
        }
      ]
    },
    {
      "cell_type": "code",
      "source": [
        "# program 7 \n",
        "# S.I and C.I \n",
        "print(\"Simple Interest:\")\n",
        "p = float(input(\"Enter the principle amount: \"))\n",
        "n = float(input(\"Enter the time: \"))\n",
        "r = float(input(\"Enter the rate:\"))\n",
        "simple_interest = (p * n * r)/100\n",
        "compound_interest = p * ((1+r/100)**n - 1)\n",
        "print(\"Simple Interest(S.I): \",simple_interest)\n",
        "print(\"Compound Interest(C.I): \",compound_interest)"
      ],
      "metadata": {
        "colab": {
          "base_uri": "https://localhost:8080/"
        },
        "id": "ToEimPNpZUzS",
        "outputId": "fbd2d9cd-6746-4404-8e8c-bdebddf2e732"
      },
      "execution_count": null,
      "outputs": [
        {
          "output_type": "stream",
          "name": "stdout",
          "text": [
            "Simple Interest:\n",
            "Enter the principle amount: 5000\n",
            "Enter the time: 2\n",
            "Enter the rate:18\n",
            "Simple Interest(S.I):  1800.0\n",
            "Compound Interest(C.I):  1961.9999999999993\n"
          ]
        }
      ]
    },
    {
      "cell_type": "code",
      "source": [
        "# program 8 \n",
        "#PPF calculator \n",
        "print(\"PPF Calculator:\")\n",
        "p = float(input(\"Enter the principle amount: \"))\n",
        "r = float(input(\"Enter the rate: \"))\n",
        "n = int(input(\"Enter the time(period): \"))\n",
        "temp_p = p\n",
        "totalinterest = 0\n",
        "for i in range(0,n+1):\n",
        "  interest = (temp_p * r)/100\n",
        "  temp_p += p + interest\n",
        "  totalinterest += interest\n",
        "print(\"PPF: \",totalinterest)\n",
        "# Fixed deposit \n",
        "print(\"Fixed Deposit:\")\n",
        "f_d = p+(p*r*n/100)\n",
        "print(\"Fixed Deposit: \",f_d)"
      ],
      "metadata": {
        "colab": {
          "base_uri": "https://localhost:8080/"
        },
        "id": "wqJZlkkZbL3j",
        "outputId": "3bb14c5c-2199-4eca-9528-a4669b9e2fee"
      },
      "execution_count": null,
      "outputs": [
        {
          "output_type": "stream",
          "name": "stdout",
          "text": [
            "PPF Calculator:\n",
            "Enter the principle amount: 5000\n",
            "Enter the rate: 6.5\n",
            "Enter the time(period): 5\n",
            "PPF:  7614.349677891327\n",
            "Fixed Deposit:\n",
            "Fixed Deposit:  6625.0\n"
          ]
        }
      ]
    },
    {
      "cell_type": "code",
      "source": [
        "# program 9 \n",
        "# km to miles and miles to km\n",
        "print(\"Km to miles:\")\n",
        "km = float(input(\"Enter the km: \"))\n",
        "miles = km * 0.6214\n",
        "print(km,\"km in Miles: \",miles)\n",
        "print(\"miles to km:\")\n",
        "miles = float(input(\"Enter the miles: \"))\n",
        "km = miles / 0.6214\n",
        "print(miles,\"miles in km: \",km)"
      ],
      "metadata": {
        "id": "RidWY06meWFI",
        "colab": {
          "base_uri": "https://localhost:8080/"
        },
        "outputId": "e01ce909-2864-4797-c308-87b912ec2920"
      },
      "execution_count": null,
      "outputs": [
        {
          "output_type": "stream",
          "name": "stdout",
          "text": [
            "Km to miles:\n",
            "Enter the km: 5\n",
            "5.0 km in Miles:  3.1069999999999998\n",
            "miles to km:\n",
            "Enter the miles: 3.107\n",
            "3.107 miles in km:  5.000000000000001\n"
          ]
        }
      ]
    },
    {
      "cell_type": "code",
      "source": [
        "#program 10\n",
        "# student pass or fail \n",
        "print(\"Pass or Fail:\")\n",
        "mark = float(input(\"Enter the mark: \"))\n",
        "if mark >=40:\n",
        "  print(\"Pass\")\n",
        "else:\n",
        "  print(\"Fail\")"
      ],
      "metadata": {
        "colab": {
          "base_uri": "https://localhost:8080/"
        },
        "id": "lhNGYSio64u5",
        "outputId": "e67cc731-c9ec-410b-f5ac-2eeba3f454c6"
      },
      "execution_count": null,
      "outputs": [
        {
          "output_type": "stream",
          "name": "stdout",
          "text": [
            "Pass or Fail:\n",
            "Enter the mark: 40\n",
            "Pass\n"
          ]
        }
      ]
    },
    {
      "cell_type": "code",
      "source": [
        "# program 11\n",
        "# odd and even number\n",
        "print(\"Odd and Even number\")\n",
        "num = int(input(\"Enter a number: \"))\n",
        "if num % 2 == 0:\n",
        "  print(\"Even number\")\n",
        "else:\n",
        "  print(\"Odd number\")"
      ],
      "metadata": {
        "colab": {
          "base_uri": "https://localhost:8080/"
        },
        "id": "JwZ5Ft11788i",
        "outputId": "e8bbc6ea-6d3e-4ec4-f48c-07a5f022f235"
      },
      "execution_count": null,
      "outputs": [
        {
          "output_type": "stream",
          "name": "stdout",
          "text": [
            "Odd and Even number\n",
            "Enter a number: 23\n",
            "Odd number\n"
          ]
        }
      ]
    },
    {
      "cell_type": "code",
      "source": [
        "#program 12\n",
        "# leap year \n",
        "print(\"Leap year or Not!!\")\n",
        "year = int(input(\"Enter a year: \"))\n",
        "if year % 4 == 0 and year % 100 == 0 or year % 400 !=0:\n",
        "  print(\"Leap year\")\n",
        "else:\n",
        "  print(\"Not a leap year\")"
      ],
      "metadata": {
        "colab": {
          "base_uri": "https://localhost:8080/"
        },
        "id": "TN_7h6T88TKE",
        "outputId": "aba6441d-fd0a-48cc-fd0a-611805568894"
      },
      "execution_count": null,
      "outputs": [
        {
          "output_type": "stream",
          "name": "stdout",
          "text": [
            "Leap year or Not!!\n",
            "Enter a year: 2000\n",
            "Leap year\n"
          ]
        }
      ]
    },
    {
      "cell_type": "code",
      "source": [
        "# program 13\n",
        "# number or Not number\n",
        "print(\"Number or not:\") \n",
        "num = input(\"Enter a number: \")\n",
        "res = num.isnumeric()\n",
        "if res==True:\n",
        "  print(\"Its a number!\")\n",
        "else:\n",
        "  print(\"Not a number\")"
      ],
      "metadata": {
        "colab": {
          "base_uri": "https://localhost:8080/"
        },
        "id": "7rfBw-nt9He0",
        "outputId": "3081dfd9-8f69-4fb4-8e9e-973917b46802"
      },
      "execution_count": null,
      "outputs": [
        {
          "output_type": "stream",
          "name": "stdout",
          "text": [
            "Number or not:\n",
            "Enter a number: hg\n",
            "Not a number\n"
          ]
        }
      ]
    },
    {
      "cell_type": "code",
      "source": [
        "# program 14 \n",
        "# vote eligibility\n",
        "print(\"Vote Eligibility\")\n",
        "age = int(input(\"Enter your age: \"))\n",
        "if age >= 18:\n",
        "  print(\"Eligible to vote!!\")\n",
        "else:\n",
        "  print(\"Not eligible to vote\")"
      ],
      "metadata": {
        "colab": {
          "base_uri": "https://localhost:8080/"
        },
        "id": "lXGTpwVj9qvP",
        "outputId": "ef83bdf0-ce20-44f7-d21d-3a69cfd001bd"
      },
      "execution_count": null,
      "outputs": [
        {
          "output_type": "stream",
          "name": "stdout",
          "text": [
            "Vote Eligibility\n",
            "Enter your age: 15\n",
            "Not eligible to vote\n"
          ]
        }
      ]
    },
    {
      "cell_type": "code",
      "source": [
        "# program 15\n",
        "# License eligibilty\n",
        "print(\"License Eligibility\")\n",
        "age = int(input(\"Enter your age: \"))\n",
        "if age >= 18:\n",
        "  print(\"Eligible for license!!\")\n",
        "else:\n",
        "  print(\"Not eligible\")"
      ],
      "metadata": {
        "colab": {
          "base_uri": "https://localhost:8080/"
        },
        "id": "k8qnxEgn_IUI",
        "outputId": "6d8ef8ed-aef2-4cc4-c60b-2533e71c32f4"
      },
      "execution_count": null,
      "outputs": [
        {
          "output_type": "stream",
          "name": "stdout",
          "text": [
            "License Eligibility\n",
            "Enter your age: 16\n",
            "Not eligible\n"
          ]
        }
      ]
    },
    {
      "cell_type": "code",
      "source": [
        "# program 16 \n",
        "# Add 5 number (sum and avg )\n",
        "list1 = []\n",
        "for i in range(0,5):\n",
        "  element = int(input(\"Enter the number: \"))\n",
        "  list1.append(element)\n",
        "print(list1)\n",
        "res = sum(list1)\n",
        "print(\"Sum of 5 numbers: \",res)"
      ],
      "metadata": {
        "colab": {
          "base_uri": "https://localhost:8080/"
        },
        "id": "BwzTQVYY_uAT",
        "outputId": "32f37db0-31ae-46b5-da47-a993ada657d4"
      },
      "execution_count": null,
      "outputs": [
        {
          "output_type": "stream",
          "name": "stdout",
          "text": [
            "Enter the number: 4\n",
            "Enter the number: 6\n",
            "Enter the number: 1\n",
            "Enter the number: 5\n",
            "Enter the number: 4\n",
            "[4, 6, 1, 5, 4]\n",
            "Sum of 5 numbers:  20\n"
          ]
        }
      ]
    },
    {
      "cell_type": "code",
      "source": [
        "# program 17 \n",
        "# armstrong number\n",
        "n = int(input(\"Enter the nnumber: \"))\n",
        "temp = n\n",
        "armg_no = 0\n",
        "count = len(str(n))\n",
        "while temp >0:\n",
        "  digit = temp % 10\n",
        "  armg_no += digit ** count\n",
        "  temp = temp//10\n",
        "\n",
        "if n == armg_no:\n",
        "  print(\"The number is a armstrong number!!\")\n",
        "else:\n",
        "  print(\"The number is not a armstrong number!!\")\n"
      ],
      "metadata": {
        "colab": {
          "base_uri": "https://localhost:8080/"
        },
        "id": "QjPdzQc9AE2U",
        "outputId": "4808e808-8fd5-4b82-d344-b61176cba9c2"
      },
      "execution_count": null,
      "outputs": [
        {
          "output_type": "stream",
          "name": "stdout",
          "text": [
            "Enter the nnumber: 1634\n",
            "The number is a armstrong number!!\n"
          ]
        }
      ]
    },
    {
      "cell_type": "code",
      "source": [
        "# program 18\n",
        "# palindrome (number)\n",
        "n = int(input(\"Enter the number: \"))\n",
        "temp = n\n",
        "rev =0\n",
        "while n>0:\n",
        "  mod = n%10\n",
        "  rev = rev*10 + mod\n",
        "  n = n//10\n",
        "print(rev)\n",
        "if(temp == rev):\n",
        "  print(\"The number is plaindrome!!\")\n",
        "else:\n",
        "  print(\"NOt a palindrome!!\")\n",
        "# plaindrome (word)\n",
        "word = str(input(\"Enter a word: \"))\n",
        "rev = word[::-1]\n",
        "print(rev)\n",
        "if word == rev:\n",
        "  print(\"Palindrome!\")\n",
        "else:\n",
        "  print(\"Not palindrome\")"
      ],
      "metadata": {
        "colab": {
          "base_uri": "https://localhost:8080/"
        },
        "id": "9PM08x_zE-u6",
        "outputId": "022e3153-5ed3-41b1-f24f-fa870e9b990d"
      },
      "execution_count": null,
      "outputs": [
        {
          "output_type": "stream",
          "name": "stdout",
          "text": [
            "Enter the number: 121\n",
            "121\n",
            "The number is plaindrome!!\n",
            "Enter a word: ibu\n",
            "ubi\n",
            "Not palindrome\n"
          ]
        }
      ]
    },
    {
      "cell_type": "code",
      "source": [
        "# program 19\n",
        "# 1 to 100 print all odd and even numbers\n",
        "even = []\n",
        "odd = []\n",
        "for i in range(100):\n",
        "  if i%2 == 0:\n",
        "    even.append(i)\n",
        "  else:\n",
        "    odd.append(i)\n",
        "print(\"Even numbers are: \",even)\n",
        "print(\"Odd numbers are: \",odd)"
      ],
      "metadata": {
        "colab": {
          "base_uri": "https://localhost:8080/"
        },
        "id": "yGX79SmjGVrR",
        "outputId": "0d863796-4267-4e2b-fc7d-05dcb7c11b14"
      },
      "execution_count": null,
      "outputs": [
        {
          "output_type": "stream",
          "name": "stdout",
          "text": [
            "Even numbers are:  [0, 2, 4, 6, 8, 10, 12, 14, 16, 18, 20, 22, 24, 26, 28, 30, 32, 34, 36, 38, 40, 42, 44, 46, 48, 50, 52, 54, 56, 58, 60, 62, 64, 66, 68, 70, 72, 74, 76, 78, 80, 82, 84, 86, 88, 90, 92, 94, 96, 98]\n",
            "Odd numbers are:  [1, 3, 5, 7, 9, 11, 13, 15, 17, 19, 21, 23, 25, 27, 29, 31, 33, 35, 37, 39, 41, 43, 45, 47, 49, 51, 53, 55, 57, 59, 61, 63, 65, 67, 69, 71, 73, 75, 77, 79, 81, 83, 85, 87, 89, 91, 93, 95, 97, 99]\n"
          ]
        }
      ]
    },
    {
      "cell_type": "code",
      "source": [
        "# program 20 \n",
        "# 0 to 100 prime numbers\n",
        "def prime(num):\n",
        "  if num<2:\n",
        "    return 0\n",
        "  else:\n",
        "    x = num\n",
        "    for j in range(2,x+1):\n",
        "      if num % j == 0:\n",
        "        return 0\n",
        "  return 1\n",
        "\n",
        "for i in range(1,100+1):\n",
        "  if prime(i):\n",
        "    print(i,end=\" \")"
      ],
      "metadata": {
        "id": "HHhinbMxHuSp"
      },
      "execution_count": null,
      "outputs": []
    },
    {
      "cell_type": "code",
      "source": [
        "# program 21 \n",
        "# 0 to 100 armstrong number \n",
        "print(\"Armstrong number 0 to 100:\")\n",
        "for num in range(0,100):\n",
        "  sum = 0\n",
        "  temp = num\n",
        "  while temp > 0:\n",
        "    digit = temp % 10\n",
        "    sum += digit ** 3\n",
        "    temp = temp//10\n",
        "    if num == temp :\n",
        "      print(num)"
      ],
      "metadata": {
        "id": "oaCsxWHSvroy",
        "colab": {
          "base_uri": "https://localhost:8080/"
        },
        "outputId": "b58a7e55-7327-4377-fc5f-82ba788bac6e"
      },
      "execution_count": null,
      "outputs": [
        {
          "output_type": "stream",
          "name": "stdout",
          "text": [
            "Armstrong number 0 to 100:\n"
          ]
        }
      ]
    },
    {
      "cell_type": "code",
      "source": [
        "# program 22\n",
        "# Factorial\n",
        "print(\"Factorial:\")\n",
        "num = int(input(\"Enter a number: \"))\n",
        "fact = 1\n",
        "if num < 0:\n",
        "  print(\"Enter a number greater than 0 !!\")\n",
        "elif num == 0:\n",
        "  print(\"The factorial of 0 is 1\")\n",
        "else:\n",
        "  for i in range(1,num+1):\n",
        "    fact = fact * i\n",
        "  print(\"The  factorial of \",num,\"is \",fact)"
      ],
      "metadata": {
        "colab": {
          "base_uri": "https://localhost:8080/"
        },
        "id": "NHfkaM4Vpsbr",
        "outputId": "ee4ea1d5-7dd9-47c7-a274-58fcba32c134"
      },
      "execution_count": null,
      "outputs": [
        {
          "output_type": "stream",
          "name": "stdout",
          "text": [
            "Factorial:\n",
            "Enter a number: 7\n",
            "The  factorial of  7 is  5040\n"
          ]
        }
      ]
    },
    {
      "cell_type": "code",
      "source": [
        "# program 23 \n",
        "# prime number\n",
        "print(\"Prime number:\")\n",
        "num = int(input(\"Enter a number: \"))\n",
        "if num < 0:\n",
        "  print(\"number greater than 0\")\n",
        "elif num == 1:\n",
        "  print(\"The number 1 is not a prime number.\")\n",
        "else:\n",
        "  for i in range(2,num):\n",
        "    if num % i == 0:\n",
        "      print(\"The number is not prime\")\n",
        "      break\n",
        "  else:\n",
        "    print(\"The number is prime!\")\n",
        "# method - 2\n",
        "print(\"METHOD - 2\")\n",
        "num = int(input(\"Enter a number: \"))\n",
        "flag = False\n",
        "if num == 1:\n",
        "  print(\"Not a prime number\")\n",
        "else:\n",
        "  for i in range(2,num):\n",
        "    if num % i == 0:\n",
        "      flag = True\n",
        "      break\n",
        "  if flag:\n",
        "    print(num,\" is not a prime number\")\n",
        "  else:\n",
        "    print(num,\" is a prime number\")"
      ],
      "metadata": {
        "colab": {
          "base_uri": "https://localhost:8080/"
        },
        "id": "6CzI9RlrqorW",
        "outputId": "fd534d7d-442b-443d-c42a-94ab8d9ec02d"
      },
      "execution_count": null,
      "outputs": [
        {
          "output_type": "stream",
          "name": "stdout",
          "text": [
            "Prime number:\n",
            "Enter a number: 43\n",
            "The number is prime!\n",
            "METHOD - 2\n",
            "Enter a number: 43\n",
            "43  is a prime number\n"
          ]
        }
      ]
    },
    {
      "cell_type": "code",
      "source": [
        "# program 24\n",
        "# max and min in a list \n",
        "n = int(input(\"Enter the length: \"))\n",
        "list1 =[]\n",
        "for i in range(n):\n",
        "  ele = int(input(\"Enter the numbers: \"))\n",
        "  list1.append(ele)\n",
        "print(list1)\n",
        "maximum = max(list1)\n",
        "minimum = min(list1)\n",
        "print(\"Maximum number in the list is: \",maximum)\n",
        "print(\"Minimum number in the list is: \",minimum)"
      ],
      "metadata": {
        "colab": {
          "base_uri": "https://localhost:8080/"
        },
        "id": "sp9FZ7GeuCul",
        "outputId": "d9c8173a-0a8a-4801-b727-7fc637d39201"
      },
      "execution_count": null,
      "outputs": [
        {
          "output_type": "stream",
          "name": "stdout",
          "text": [
            "Enter the length: 4\n",
            "Enter the numbers: 21\n",
            "Enter the numbers: 33\n",
            "Enter the numbers: 66\n",
            "Enter the numbers: 5\n",
            "[21, 33, 66, 5]\n",
            "Maximum number in the list is:  66\n",
            "Minimum number in the list is:  5\n"
          ]
        }
      ]
    },
    {
      "cell_type": "code",
      "source": [
        "# program 25\n",
        "# fibonacci series\n",
        "print(\"Fibonacci series:\")\n",
        "num = int(input(\"Enter a number: \"))\n",
        "n1 = 0\n",
        "n2 = 1\n",
        "count = 0\n",
        "if num <= 0 :\n",
        "  print(\"Enter a positive number greater than 0: \")\n",
        "elif num == 1 :\n",
        "  print(n1)\n",
        "else:\n",
        "  while count < num:\n",
        "    print(n1)\n",
        "    n3 = n1 + n2\n",
        "    n1 = n2\n",
        "    n2 = n3\n",
        "    count+=1"
      ],
      "metadata": {
        "id": "-dhx0eFWwOEq",
        "colab": {
          "base_uri": "https://localhost:8080/"
        },
        "outputId": "1c3e3780-fa24-4c10-fd41-cfcfa7717edb"
      },
      "execution_count": null,
      "outputs": [
        {
          "output_type": "stream",
          "name": "stdout",
          "text": [
            "Fibonacci series:\n",
            "Enter a number: 7\n",
            "0\n",
            "1\n",
            "1\n",
            "2\n",
            "3\n",
            "5\n",
            "8\n"
          ]
        }
      ]
    },
    {
      "cell_type": "code",
      "source": [
        "# program 26\n",
        "# pascal traingle\n",
        "from math import factorial \n",
        "n = int(input(\"Enter the number of rows: \"))\n",
        "for i in range(n):\n",
        "  for j in range(n-i+1):\n",
        "    print(end=' ')\n",
        "  for j in range(i+1):\n",
        "    # nCr formula n!/(n-1)!*r!\n",
        "    print(factorial(i)//(factorial(i-j)*factorial(j)),end=' ')\n",
        "  print()\n"
      ],
      "metadata": {
        "colab": {
          "base_uri": "https://localhost:8080/"
        },
        "id": "vsBImcbX2Dsc",
        "outputId": "6f6136d7-96c6-45dc-8f23-21d0bb90566f"
      },
      "execution_count": null,
      "outputs": [
        {
          "output_type": "stream",
          "name": "stdout",
          "text": [
            "Enter the number of rows: 9\n",
            "          1 \n",
            "         1 1 \n",
            "        1 2 1 \n",
            "       1 3 3 1 \n",
            "      1 4 6 4 1 \n",
            "     1 5 10 10 5 1 \n",
            "    1 6 15 20 15 6 1 \n",
            "   1 7 21 35 35 21 7 1 \n",
            "  1 8 28 56 70 56 28 8 1 \n"
          ]
        }
      ]
    },
    {
      "cell_type": "code",
      "source": [
        "# program 27\n",
        "# perfect number\n",
        "# Definition (The sum of the divisor of a number is equal to the number )\n",
        "num = int(input(\"Enter a number: \"))\n",
        "sum = 0\n",
        "for i in range(1,num):\n",
        "  if num % i == 0:\n",
        "    sum = sum + i\n",
        "print(sum)\n",
        "if sum == num:\n",
        "  print(\"Perfect number!\")\n",
        "else:\n",
        "  print(\"Not perfect number\")\n",
        "# perfect numbers:  6, 28, 496, 8128, and 33550336"
      ],
      "metadata": {
        "colab": {
          "base_uri": "https://localhost:8080/"
        },
        "id": "N0z0BCmo_mXZ",
        "outputId": "b256ea8a-51d5-460b-db39-82acc9384c17"
      },
      "execution_count": null,
      "outputs": [
        {
          "output_type": "stream",
          "name": "stdout",
          "text": [
            "Enter a number: 6\n",
            "6\n",
            "Perfect number!\n"
          ]
        }
      ]
    },
    {
      "cell_type": "code",
      "source": [
        "# program 28\n",
        "# strong numbers\n",
        "# Definition (sum of the all digit factorial should be equal to the number itself)\n",
        "num = int(input(\"Enter a number: \"))\n",
        "sum = 0\n",
        "temp = num\n",
        "while temp > 0:\n",
        "  fact =1 \n",
        "  rem = temp % 10\n",
        "  for i in range(1,rem+1):\n",
        "    fact = fact * i\n",
        "  sum = sum + fact\n",
        "  temp = temp//10\n",
        "print(\"sum = \",sum)\n",
        "if sum == num :\n",
        "  print(\"Strong number\")\n",
        "else:\n",
        "  print(\"Not a strong number\")\n",
        "  #strong numbers: 1,2,145,40585"
      ],
      "metadata": {
        "colab": {
          "base_uri": "https://localhost:8080/"
        },
        "id": "Yroe9FqoFRTR",
        "outputId": "849ea1ce-0e3e-429e-e06e-2e760ad86a52"
      },
      "execution_count": null,
      "outputs": [
        {
          "output_type": "stream",
          "name": "stdout",
          "text": [
            "Enter a number: 145\n",
            "sum =  145\n",
            "Strong number\n"
          ]
        }
      ]
    },
    {
      "cell_type": "code",
      "source": [
        "# program 29\n",
        "# Neon numbers\n",
        "# Definition: (Neon Number is a number whose sum of digits of its square is equal to the original number.)\n",
        "num = int(input(\"Enter the number: \"))\n",
        "sqr = num **2\n",
        "sum = 0\n",
        "#calculating sum of digits:\n",
        "while sqr > 0:\n",
        "  sum = sum+sqr%10\n",
        "  sqr = sqr//10\n",
        "if num == sum:\n",
        "  print(\"Neon number\")\n",
        "else:\n",
        "  print(\"Not a neon number\")\n"
      ],
      "metadata": {
        "id": "k_geuYCqI3Py",
        "colab": {
          "base_uri": "https://localhost:8080/"
        },
        "outputId": "f72ac52a-f7dc-414f-ba20-6b43bed4bc04"
      },
      "execution_count": null,
      "outputs": [
        {
          "output_type": "stream",
          "name": "stdout",
          "text": [
            "Enter the number: 9\n",
            "Neon number\n"
          ]
        }
      ]
    },
    {
      "cell_type": "code",
      "source": [
        "# program 30 \n",
        "# automorphic numbers\n",
        "# Definition (A number is said to be an automorphic number if the last digits of the square of this number give the same number)\n",
        "num = int(input(\"Enter a number: \"))\n",
        "sqr = num**2\n",
        "num_of_digits = len(str(num))\n",
        "# getting the last 2 digits\n",
        "last_digits = sqr % pow(10,num_of_digits)\n",
        "\n",
        "if last_digits == num:\n",
        "  print(\"Automorphic number\")\n",
        "else:\n",
        "  print(\"Not a automorphic number\")"
      ],
      "metadata": {
        "colab": {
          "base_uri": "https://localhost:8080/"
        },
        "id": "ozp6XV69TmW2",
        "outputId": "1d4857e8-a2c0-416a-d4c8-f7be30218337"
      },
      "execution_count": null,
      "outputs": [
        {
          "output_type": "stream",
          "name": "stdout",
          "text": [
            "Enter a number: 76\n",
            "Automorphic number\n"
          ]
        }
      ]
    },
    {
      "cell_type": "code",
      "source": [
        "# program 31\n",
        "# Happy numbers\n",
        "# Definition (A number is said to be happy if it yields 1 when replaced by the sum of squares of its digits repeatedly. If this process results in an endless cycle of numbers containing 4, then the number will be an unhappy number.)\n",
        "def ishappynumber(num):\n",
        "  sum = 0\n",
        "  rem = 0\n",
        "  # calculate the sum of the digits\n",
        "  while num > 0:\n",
        "    rem = num % 10\n",
        "    sum = sum + (rem*rem)\n",
        "    num = num//10\n",
        "  return sum \n",
        "num = int(input(\"Enter a number: \"))\n",
        "res = num\n",
        "while(res!=1 and res!=4):\n",
        "  res = ishappynumber(res)\n",
        "\n",
        "if (res == 1):\n",
        "  print(\"Happy number\")\n",
        "elif res == 4:\n",
        "  print(\"Not a happy numher\")"
      ],
      "metadata": {
        "colab": {
          "base_uri": "https://localhost:8080/"
        },
        "id": "0gqF3hXWVUf3",
        "outputId": "1ef46a28-635f-4b82-fa7d-443ad8f8e8d5"
      },
      "execution_count": null,
      "outputs": [
        {
          "output_type": "stream",
          "name": "stdout",
          "text": [
            "Enter a number: 82\n",
            "Happy number\n"
          ]
        }
      ]
    },
    {
      "cell_type": "code",
      "source": [
        "# program 32\n",
        "# spy numbers\n",
        "# Definition (A number is called as Spy number if the sum of its digits is equal to the product of its digits.) \n",
        "num = int(input(\"Enter the number: \"))\n",
        "sum = 0\n",
        "prod = 1\n",
        "while num > 0:\n",
        "  rem = num % 10\n",
        "  sum = sum + rem\n",
        "  prod = prod * rem\n",
        "  num = num // 10\n",
        "\n",
        "if (sum == prod):\n",
        "  print(\"Spy number\")\n",
        "else:\n",
        "  print(\"Not a spy number\")"
      ],
      "metadata": {
        "colab": {
          "base_uri": "https://localhost:8080/"
        },
        "id": "VdSfzVOgaah6",
        "outputId": "08c56439-1c8f-498f-90f7-9514c1a7b67b"
      },
      "execution_count": null,
      "outputs": [
        {
          "output_type": "stream",
          "name": "stdout",
          "text": [
            "Enter the number: 1124\n",
            "Spy number\n"
          ]
        }
      ]
    },
    {
      "cell_type": "code",
      "source": [
        "# program 33 \n",
        "# sunny number \n",
        "# Definition (If given number + 1 is perfect square root means that is Sunny number.)\n",
        "import math\n",
        "num = int(input(\"Enter the number: \"))\n",
        "num = num + 1\n",
        "sqr = math.sqrt(num)\n",
        "if (sqr**2 == num):\n",
        "  print(\"Sunny number\")\n",
        "else:\n",
        "  print(\"Not a sunny number\")"
      ],
      "metadata": {
        "colab": {
          "base_uri": "https://localhost:8080/"
        },
        "id": "To0Mt2w1bMbw",
        "outputId": "a5eaab02-a670-4147-f2d8-0d0f385fe056"
      },
      "execution_count": null,
      "outputs": [
        {
          "output_type": "stream",
          "name": "stdout",
          "text": [
            "Enter the number: 3\n",
            "Sunny number\n"
          ]
        }
      ]
    },
    {
      "cell_type": "code",
      "source": [
        "# program 34\n",
        "# fasinating number\n",
        "# Definition (When a number( 3 digits or more ) is multiplied by 2 and 3, and when both these products are concatenated with the original number, then it results in all digits from 1 to 9 present exactly once. There could be any number of zeros and are ignored. )\n",
        "num = int(input(\"Enter a number: \"))\n",
        "num1 = str(num * 2)\n",
        "num2 = str(num * 3)\n",
        "res = str(num) + num1 + num2\n"
      ],
      "metadata": {
        "colab": {
          "base_uri": "https://localhost:8080/",
          "height": 53
        },
        "id": "C8aSMr1WcY3Y",
        "outputId": "99c5e4fd-82f6-4036-ddd8-f8850a8eddbc"
      },
      "execution_count": null,
      "outputs": [
        {
          "name": "stdout",
          "output_type": "stream",
          "text": [
            "Enter a number: 3\n"
          ]
        },
        {
          "output_type": "execute_result",
          "data": {
            "text/plain": [
              "'369'"
            ],
            "application/vnd.google.colaboratory.intrinsic+json": {
              "type": "string"
            }
          },
          "metadata": {},
          "execution_count": 13
        }
      ]
    },
    {
      "cell_type": "code",
      "source": [
        "# program 35 \n",
        "# disarium number \n",
        "# Definition (A number is said to be the Disarium number when the sum of its digit raised to the power of their respective positions becomes equal to the number itself.)\n",
        "def calculatelength(num):\n",
        "  length = 0\n",
        "  while num > 0:\n",
        "    length += 1\n",
        "    num = num//10\n",
        "  return length\n",
        "num = int(input(\"Enter a number: \"))\n",
        "sum = 0 \n",
        "rem = 0\n",
        "len = calculatelength(num)\n",
        "temp = num \n",
        "# sum of digits powered with their respective position \n",
        "while num > 0:\n",
        "  rem = num % 10\n",
        "  sum = sum + int(rem**len)\n",
        "  num = num // 10\n",
        "  len = len - 1\n",
        "print(sum)\n",
        "if temp == sum:\n",
        "  print(\"Disarium number\")\n",
        "else:\n",
        "  print(\"Not a disarium number\")"
      ],
      "metadata": {
        "colab": {
          "base_uri": "https://localhost:8080/"
        },
        "id": "1tnyCgWzdciF",
        "outputId": "37a79d87-a4aa-4643-953f-668071662afb"
      },
      "execution_count": null,
      "outputs": [
        {
          "output_type": "stream",
          "name": "stdout",
          "text": [
            "Enter a number: 175\n",
            "175\n",
            "Disarium number\n"
          ]
        }
      ]
    },
    {
      "cell_type": "code",
      "source": [
        "# program 36 \n",
        "# pronic number\n",
        "# Definition (A pronic number is a number which is the product of two consecutive integers, that is, a number of the form n(n + 1).)\n",
        "num = int(input(\"Enter a number: \"))\n",
        "flag = 0\n",
        "for i in range(num):\n",
        "  if i*(i+1) == num:\n",
        "    flag =1\n",
        "    break\n",
        "if flag == 1:\n",
        "  print(\"Pronic number\")\n",
        "else:\n",
        "  print(\"Not a pronic number\")"
      ],
      "metadata": {
        "colab": {
          "base_uri": "https://localhost:8080/"
        },
        "id": "LxZ4Xggtg2HX",
        "outputId": "c36f3f1a-3f65-48df-c78c-38424fb4c353"
      },
      "execution_count": null,
      "outputs": [
        {
          "output_type": "stream",
          "name": "stdout",
          "text": [
            "Enter a number: 20\n",
            "Pronic number\n"
          ]
        }
      ]
    },
    {
      "cell_type": "code",
      "source": [
        "# program 37 \n",
        "# Trimorphoc number\n",
        "# Definition ( a trimorphic number is a number whose cube (expressed in a given base) ends in the number itself.)\n",
        "def isTrimorphic(num):\n",
        "  cube = num**3\n",
        "  while num > 0:\n",
        "    if(num % 10 != cube %10):\n",
        "      return False\n",
        "    num = num//10\n",
        "    cube = cube//10\n",
        "  return True\n",
        "  \n",
        "num = int(input(\"Enter a number: \"))\n",
        "res = isTrimorphic(num)\n",
        "if res == True:\n",
        "  print(\"Trimorphic number\")\n",
        "else:\n",
        "  print(\"Not a Trimorphic number\")"
      ],
      "metadata": {
        "colab": {
          "base_uri": "https://localhost:8080/"
        },
        "id": "a9Y2jFHFj7iA",
        "outputId": "85a834de-5f09-4458-a17c-95d3ab5ce428"
      },
      "execution_count": null,
      "outputs": [
        {
          "output_type": "stream",
          "name": "stdout",
          "text": [
            "Enter a number: 24\n",
            "Trimorphic number\n"
          ]
        }
      ]
    },
    {
      "cell_type": "code",
      "source": [
        "# program 38 \n",
        "# factorial 0 to 100\n",
        "fact = 1\n",
        "for i in range(2,10):\n",
        "  fact = fact * i\n",
        "  print(fact)  "
      ],
      "metadata": {
        "colab": {
          "base_uri": "https://localhost:8080/"
        },
        "id": "IjLMQLtSlxTM",
        "outputId": "1894f6d8-f333-4d25-847d-db29c561f59e"
      },
      "execution_count": null,
      "outputs": [
        {
          "output_type": "stream",
          "name": "stdout",
          "text": [
            "2\n",
            "6\n",
            "24\n",
            "120\n",
            "720\n",
            "5040\n",
            "40320\n",
            "362880\n"
          ]
        }
      ]
    },
    {
      "cell_type": "code",
      "source": [
        "# program 39\n",
        "# floid tringle\n",
        "rows = int(input(\"Enter the number of rows: \"))\n",
        "num = 1\n",
        "for i in range(1,rows+1):\n",
        "  for j in range(1,i+1):\n",
        "    print(num,end='  ')\n",
        "    num = num + 1\n",
        "  print()"
      ],
      "metadata": {
        "colab": {
          "base_uri": "https://localhost:8080/"
        },
        "id": "vgEBvFoem4Yw",
        "outputId": "798c0d18-b0e8-4c92-d6ca-ae48307b90b2"
      },
      "execution_count": null,
      "outputs": [
        {
          "output_type": "stream",
          "name": "stdout",
          "text": [
            "Enter the number of rows: 5\n",
            "1  \n",
            "2  3  \n",
            "4  5  6  \n",
            "7  8  9  10  \n",
            "11  12  13  14  15  \n"
          ]
        }
      ]
    },
    {
      "cell_type": "code",
      "source": [
        "# program 40 \n",
        "# Reverse number \n",
        "num = input(\"Enter a number:\")\n",
        "rev = num[::-1]\n",
        "res = int(rev)\n",
        "print(res)\n",
        "# Method 2 \n",
        "num = int(input(\"Enter a number: \"))\n",
        "rev = 0\n",
        "while num != 0:\n",
        "  rem = num % 10\n",
        "  rev = rev * 10 + rem\n",
        "  num = num//10\n",
        "print(rev)"
      ],
      "metadata": {
        "colab": {
          "base_uri": "https://localhost:8080/"
        },
        "id": "SCauRlCnoLyU",
        "outputId": "0e1393ef-9578-415a-a793-829cb51e2f59"
      },
      "execution_count": null,
      "outputs": [
        {
          "output_type": "stream",
          "name": "stdout",
          "text": [
            "Enter a number:234\n",
            "432\n",
            "Enter a number: 678\n",
            "876\n"
          ]
        }
      ]
    },
    {
      "cell_type": "code",
      "source": [
        "# program 41\n",
        "# Reverse a string \n",
        "word = input(\"Enter a string: \")\n",
        "rev = word[::-1]\n",
        "print(rev)\n",
        "# method - 2\n",
        "word = input(\"Enter a string:\")\n",
        "str1 =''\n",
        "for i in word:\n",
        "  str1 = i + str1\n",
        "print(str1)"
      ],
      "metadata": {
        "colab": {
          "base_uri": "https://localhost:8080/"
        },
        "id": "iDMyZIq6oXmz",
        "outputId": "410d7d98-c06c-42d4-bb36-d832270e72e3"
      },
      "execution_count": null,
      "outputs": [
        {
          "output_type": "stream",
          "name": "stdout",
          "text": [
            "Enter a string: ibu\n",
            "ubi\n",
            "Enter a string:ibu\n",
            "ubi\n"
          ]
        }
      ]
    },
    {
      "cell_type": "code",
      "source": [
        "# program 42\n",
        "# Sum of digits\n",
        "num = int(input(\"Enter the number: \"))\n",
        "sum = 0\n",
        "while num > 0:\n",
        "  rem = num % 10\n",
        "  sum = sum + rem\n",
        "  num = num // 10\n",
        "print(sum)"
      ],
      "metadata": {
        "colab": {
          "base_uri": "https://localhost:8080/"
        },
        "id": "hCTIxScLpceV",
        "outputId": "f04a1730-3672-448f-9492-536e75929636"
      },
      "execution_count": null,
      "outputs": [
        {
          "output_type": "stream",
          "name": "stdout",
          "text": [
            "Enter the number: 55\n",
            "10\n"
          ]
        }
      ]
    },
    {
      "cell_type": "code",
      "source": [
        "# program 43\n",
        "# power of a number\n",
        "num = int(input(\"Enter a number: \"))\n",
        "power = num **num \n",
        "print(power)\n",
        "# method - 2 (use pow method)\n",
        "num = int(input(\"Enter a number: \"))\n",
        "power = pow(num,num)\n",
        "print(power)"
      ],
      "metadata": {
        "colab": {
          "base_uri": "https://localhost:8080/"
        },
        "id": "NHaGLBEqq7j9",
        "outputId": "6431443f-f495-48b5-d77e-678473cb4267"
      },
      "execution_count": null,
      "outputs": [
        {
          "output_type": "stream",
          "name": "stdout",
          "text": [
            "Enter a number: 4\n",
            "256\n",
            "Enter a number: 4\n",
            "256\n"
          ]
        }
      ]
    },
    {
      "cell_type": "code",
      "source": [
        "# program 44\n",
        "# count the number of digits\n",
        "num = int(input(\"Enter the number: \"))\n",
        "count = 0\n",
        "while num > 0:\n",
        "  rem = num % 10\n",
        "  count += 1\n",
        "  num = num//10\n",
        "print(count)"
      ],
      "metadata": {
        "colab": {
          "base_uri": "https://localhost:8080/"
        },
        "id": "AkmxqEt5rPyN",
        "outputId": "915a30c5-fd4b-4d61-a551-8f4574ba4ca1"
      },
      "execution_count": null,
      "outputs": [
        {
          "output_type": "stream",
          "name": "stdout",
          "text": [
            "Enter the number: 7899\n",
            "4\n"
          ]
        }
      ]
    },
    {
      "cell_type": "code",
      "source": [
        "# program 45 \n",
        "# BMI calculator\n",
        "weight = int(input(\"Enter the weight: \"))\n",
        "height = float(input(\"Enter the height: \"))\n",
        "BMI = weight/float(height*height)\n",
        "if BMI < 18.5:\n",
        "  print(\"Under weight!\")\n",
        "elif BMI >= 18.5 and BMI < 25:\n",
        "  print(\"Normal\")\n",
        "elif BMI >= 25 and BMI < 30:\n",
        "  print(\"Over weight!!\")\n",
        "elif BMI >= 30:\n",
        "  print(\"Obesity!!!\")\n"
      ],
      "metadata": {
        "colab": {
          "base_uri": "https://localhost:8080/"
        },
        "id": "lGEJu755ry8X",
        "outputId": "5d8c4f49-2ff4-4099-ffec-11f80b51bf83"
      },
      "execution_count": null,
      "outputs": [
        {
          "output_type": "stream",
          "name": "stdout",
          "text": [
            "Enter the weight: 70\n",
            "Enter the height: 156\n",
            "Under weight!\n"
          ]
        }
      ]
    },
    {
      "cell_type": "code",
      "source": [
        "# program 46\n",
        "# Random number Generator\n",
        "import random\n",
        "print(random.randint(0,100))"
      ],
      "metadata": {
        "id": "nDcfmE_8s0CT",
        "colab": {
          "base_uri": "https://localhost:8080/"
        },
        "outputId": "d03bf898-3658-4199-9a45-c03a9cbebc6e"
      },
      "execution_count": null,
      "outputs": [
        {
          "output_type": "stream",
          "name": "stdout",
          "text": [
            "98\n"
          ]
        }
      ]
    },
    {
      "cell_type": "code",
      "source": [
        "# program 47\n",
        "# anagram string checker\n",
        "# Definition (a word or phrase that is made by arranging the letters of another word or phrase in a different order.)\n",
        "s1 = input(\"Enter 1st word: \")\n",
        "s2 = input(\"Enter 2nd word: \")\n",
        "if sorted(s1) == sorted(s2):\n",
        "  print(\"The strings are anagrams!!\")\n",
        "else:\n",
        "  print(\"The strings are not anagrams\")\n"
      ],
      "metadata": {
        "colab": {
          "base_uri": "https://localhost:8080/"
        },
        "id": "cupzvzZXuTIU",
        "outputId": "bce353ad-7b6a-471c-842d-ed2b98b15abd"
      },
      "execution_count": null,
      "outputs": [
        {
          "output_type": "stream",
          "name": "stdout",
          "text": [
            "Enter 1st word: listen\n",
            "Enter 2nd word: silent\n",
            "The strings are anagrams!!\n"
          ]
        }
      ]
    },
    {
      "cell_type": "code",
      "source": [
        "# program 48\n",
        "# Super digits \n",
        "# Definition(super digit of a single digit number is the digit itself but for multi-digit numbers super digit is the sum of all digits repeatedly until the sum is a single digit number.)\n",
        "num = int(input(\"Enter the number: \"))\n",
        "sum = 0\n",
        "while num > 0 or sum > 9:\n",
        "  if num == 0:\n",
        "    num = sum\n",
        "    sum = 0\n",
        "  sum += num%10\n",
        "  num= num//10\n",
        "print(sum)"
      ],
      "metadata": {
        "colab": {
          "base_uri": "https://localhost:8080/"
        },
        "id": "3vMtOfs8vrCK",
        "outputId": "b4348b7c-3768-4e07-f767-f9061111ac63"
      },
      "execution_count": null,
      "outputs": [
        {
          "output_type": "stream",
          "name": "stdout",
          "text": [
            "Enter the number: 675849\n",
            "3\n"
          ]
        }
      ]
    },
    {
      "cell_type": "code",
      "source": [
        "# program 49 \n",
        "# LCM and GCD\n",
        "print(\"LCM:\")\n",
        "num1 = int(input(\"Enter 1st number: \"))\n",
        "num2 = int(input(\"Enter 2nd number: \"))\n",
        "if num1 > num2:\n",
        "  greater = num1\n",
        "else:\n",
        "  greater = num2\n",
        "while True:\n",
        "  if greater%num1 == 0 and greater % num2 == 0:\n",
        "    lcm = greater\n",
        "    break \n",
        "  greater+=1\n",
        "print(lcm)\n"
      ],
      "metadata": {
        "colab": {
          "base_uri": "https://localhost:8080/"
        },
        "id": "DbycrRI4yYG5",
        "outputId": "fed9a461-23a6-4f6b-962f-9fb397221e08"
      },
      "execution_count": null,
      "outputs": [
        {
          "output_type": "stream",
          "name": "stdout",
          "text": [
            "LCM\n",
            "Enter 1st number: 34\n",
            "Enter 2nd number: 54\n",
            "918\n"
          ]
        }
      ]
    },
    {
      "cell_type": "code",
      "source": [
        "# program 50 \n",
        "# GCD or HCF\n",
        "print(\"GCD:\")\n",
        "num1 = int(input(\"Enter 1st number: \"))\n",
        "num2 = int(input(\"Enter 2nd number: \"))\n",
        "if num1 > num2:\n",
        "  smaller = num2\n",
        "else:\n",
        "  smaller = num1\n",
        "for i in range(1,smaller+1):\n",
        "  if num1 % i == 0 and num2 % i == 0:\n",
        "    gcd = i\n",
        "print(gcd)"
      ],
      "metadata": {
        "colab": {
          "base_uri": "https://localhost:8080/"
        },
        "id": "arUc_4Zg4fo_",
        "outputId": "45cd9683-e670-49b6-ffe7-5a64203f1c50"
      },
      "execution_count": null,
      "outputs": [
        {
          "output_type": "stream",
          "name": "stdout",
          "text": [
            "GCD:\n",
            "Enter 1st number: 54\n",
            "Enter 2nd number: 24\n",
            "6\n"
          ]
        }
      ]
    },
    {
      "cell_type": "code",
      "source": [
        "# program 51\n",
        "# speed calculator\n",
        "dist = float(input(\"Enter the distance in km: \"))\n",
        "time = float(input(\"Enter the time in minutes: \"))\n",
        "speed = dist/time\n",
        "print(\"Speed = {:.2f} km per minute\".format(speed))"
      ],
      "metadata": {
        "colab": {
          "base_uri": "https://localhost:8080/"
        },
        "id": "XrOrIvvx5G_Y",
        "outputId": "6d1766a4-82fc-42b7-e0af-9601df64d70c"
      },
      "execution_count": null,
      "outputs": [
        {
          "output_type": "stream",
          "name": "stdout",
          "text": [
            "Enter the distance in km: 70\n",
            "Enter the time in minutes: 50\n",
            "Speed = 1.40 km per minute\n"
          ]
        }
      ]
    },
    {
      "cell_type": "code",
      "source": [
        "# program 52\n",
        "# ohm's law ( v = IR)\n",
        "def ohms_law(v,i,r):\n",
        "  if v == 0:\n",
        "    v = i * r\n",
        "    print(\"voltage: \",v,\" Volt\")\n",
        "  elif i == 0:\n",
        "    i = v/r\n",
        "    print(\"Current: \",i,\" Amp\")\n",
        "  elif r == 0:\n",
        "    r = v/i\n",
        "    print(\"Resistance: \",r,\" Ohm\")\n",
        "v = float(input(\"Enter the voltage: \"))\n",
        "i = float(input(\"Enter the current: \"))\n",
        "r = float(input(\"Enter the Resistance: \"))\n",
        "ohms_law(v,i,r)"
      ],
      "metadata": {
        "colab": {
          "base_uri": "https://localhost:8080/"
        },
        "id": "HysSYY-66DyD",
        "outputId": "5b427047-a11c-4992-8f28-c4d13a633ef0"
      },
      "execution_count": null,
      "outputs": [
        {
          "output_type": "stream",
          "name": "stdout",
          "text": [
            "Enter the voltage: 0\n",
            "Enter the current: 6\n",
            "Enter the Resistance: 4\n",
            "voltage:  24.0  Volt\n"
          ]
        }
      ]
    },
    {
      "cell_type": "code",
      "source": [
        "# program 53 \n",
        "# volume of shapes\n",
        "import math\n",
        "def cuboid():\n",
        "  l = float(input(\"Enter the length: \"))\n",
        "  w = float(input(\"Enter the width: \"))\n",
        "  h = float(input(\"Enter the height: \"))\n",
        "  res = l*w*h\n",
        "  print(\"Volume of cuboid: \",res)\n",
        "def cube():\n",
        "  a = float(input(\"Enter the side: \"))\n",
        "  res = a**3\n",
        "  print(\"Volume of cube: \",res)\n",
        "def cylinder():\n",
        "  r = float(input(\"Enter the radius: \"))\n",
        "  h = float(input(\"Enter the height: \"))\n",
        "  res = math.pi*(r**2)*h\n",
        "  print(\"Volume of cylinder: \",res)\n",
        "def sphere():\n",
        "  r = float(input(\"Enter the radius: \"))\n",
        "  res = (4/3)*(math.pi*(r**3))\n",
        "  print(\"Volume of sphere: \",res)\n",
        "def pyramid():\n",
        "  b = float(input(\"Enter the base: \"))\n",
        "  h = float(input(\"Enter the height: \"))\n",
        "  res = (1/3)*(b*h)\n",
        "  print(\"Volume of pyramid: \",res)\n",
        "\n",
        "cuboid()\n",
        "cube()\n",
        "cylinder()\n",
        "sphere()\n",
        "pyramid()"
      ],
      "metadata": {
        "colab": {
          "base_uri": "https://localhost:8080/"
        },
        "id": "0kj7SAVL8e0Z",
        "outputId": "4b808401-7e8d-44c9-e352-c20d6f9419d3"
      },
      "execution_count": null,
      "outputs": [
        {
          "output_type": "stream",
          "name": "stdout",
          "text": [
            "Enter the length: 5\n",
            "Enter the width: 3\n",
            "Enter the height: 8\n",
            "Volume of cuboid:  120.0\n",
            "Enter the side: 8\n",
            "Volume of cube:  512.0\n",
            "Enter the radius: 9\n",
            "Enter the height: 12\n",
            "Volume of cylinder:  3053.628059289279\n",
            "Enter the radius: 5\n",
            "Volume of sphere:  523.5987755982987\n",
            "Enter the base: 3\n",
            "Enter the height: 5\n",
            "Volume of pyramid:  5.0\n"
          ]
        }
      ]
    },
    {
      "cell_type": "code",
      "source": [
        "# program 54 \n",
        "# Tables\n",
        "n = int(input(\"Enter the table number: \"))\n",
        "for i in range(1,12):\n",
        "  res = i*n\n",
        "  print(n,\"x\",i,\"=\",res)"
      ],
      "metadata": {
        "colab": {
          "base_uri": "https://localhost:8080/"
        },
        "id": "MIIXqMwhFu0u",
        "outputId": "700dc99e-66fe-4ee1-b7e2-78e1b46526ec"
      },
      "execution_count": null,
      "outputs": [
        {
          "output_type": "stream",
          "name": "stdout",
          "text": [
            "Enter the table number: 3\n",
            "3 x 1 = 3\n",
            "3 x 2 = 6\n",
            "3 x 3 = 9\n",
            "3 x 4 = 12\n",
            "3 x 5 = 15\n",
            "3 x 6 = 18\n",
            "3 x 7 = 21\n",
            "3 x 8 = 24\n",
            "3 x 9 = 27\n",
            "3 x 10 = 30\n",
            "3 x 11 = 33\n"
          ]
        }
      ]
    },
    {
      "cell_type": "code",
      "source": [],
      "metadata": {
        "id": "hmBPn5jsGuao"
      },
      "execution_count": null,
      "outputs": []
    }
  ]
}